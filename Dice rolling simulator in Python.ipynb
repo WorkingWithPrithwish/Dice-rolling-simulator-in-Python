{
 "cells": [
  {
   "cell_type": "code",
   "execution_count": 2,
   "metadata": {},
   "outputs": [
    {
     "name": "stdout",
     "output_type": "stream",
     "text": [
      "Wellcome to Dice Rolling Simulator\n",
      "dice no is 1\n",
      "you want to role again press yes yes\n",
      "Wellcome to Dice Rolling Simulator \n",
      "dice no is 1\n",
      "you want to role again press yes yes\n",
      "Wellcome to Dice Rolling Simulator \n",
      "dice no is 4\n",
      "you want to role again press yes no\n",
      "Thank you to participate\n"
     ]
    }
   ],
   "source": [
    "import numpy as np\n",
    "print(\"Wellcome to Dice Rolling Simulator\")\n",
    "while True:\n",
    "    rand = np.random.randint(1,7)\n",
    "    print(\"dice no is\",rand)\n",
    "    y = input(\"you want to role again press yes \")\n",
    "    if y == 'yes':\n",
    "        print(\"Wellcome to Dice Rolling Simulator \")\n",
    "    else:\n",
    "        break\n",
    "print(\"Thank you to participate\")"
   ]
  },
  {
   "cell_type": "code",
   "execution_count": null,
   "metadata": {},
   "outputs": [],
   "source": []
  }
 ],
 "metadata": {
  "kernelspec": {
   "display_name": "Python 3",
   "language": "python",
   "name": "python3"
  },
  "language_info": {
   "codemirror_mode": {
    "name": "ipython",
    "version": 3
   },
   "file_extension": ".py",
   "mimetype": "text/x-python",
   "name": "python",
   "nbconvert_exporter": "python",
   "pygments_lexer": "ipython3",
   "version": "3.7.7"
  }
 },
 "nbformat": 4,
 "nbformat_minor": 4
}
